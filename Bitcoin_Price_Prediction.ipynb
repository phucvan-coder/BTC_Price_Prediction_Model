{
  "nbformat": 4,
  "nbformat_minor": 5,
  "metadata": {
    "kernelspec": {
      "display_name": "Python 3 (ipykernel)",
      "language": "python",
      "name": "python3"
    },
    "language_info": {
      "codemirror_mode": {
        "name": "ipython",
        "version": 3
      },
      "file_extension": ".py",
      "mimetype": "text/x-python",
      "name": "python",
      "nbconvert_exporter": "python",
      "pygments_lexer": "ipython3",
      "version": "3.9.7"
    },
    "colab": {
      "name": "Bitcoin_Price_Prediction.ipynb",
      "provenance": [],
      "collapsed_sections": [],
      "include_colab_link": true
    }
  },
  "cells": [
    {
      "cell_type": "markdown",
      "metadata": {
        "id": "view-in-github",
        "colab_type": "text"
      },
      "source": [
        "<a href=\"https://colab.research.google.com/github/phucvan-coder/BTC_Price_Prediction_Model/blob/main/Bitcoin_Price_Prediction.ipynb\" target=\"_parent\"><img src=\"https://colab.research.google.com/assets/colab-badge.svg\" alt=\"Open In Colab\"/></a>"
      ]
    },
    {
      "cell_type": "code",
      "metadata": {
        "id": "9ce8722a"
      },
      "source": [
        "#import necessary libraries for managing and visualizing dataset\n",
        "import pandas as pd\n",
        "import numpy as np\n",
        "import seaborn as sns\n",
        "import matplotlib.pyplot as plt\n",
        "%matplotlib inline"
      ],
      "id": "9ce8722a",
      "execution_count": null,
      "outputs": []
    },
    {
      "cell_type": "code",
      "metadata": {
        "id": "5TGbjWwAy2mD",
        "colab": {
          "base_uri": "https://localhost:8080/"
        },
        "outputId": "3d269d6a-f09b-4b12-fbc3-bbf9d7e87463"
      },
      "source": [
        "from google.colab import drive\n",
        "drive.mount('/content/drive')"
      ],
      "id": "5TGbjWwAy2mD",
      "execution_count": null,
      "outputs": [
        {
          "output_type": "stream",
          "name": "stdout",
          "text": [
            "Mounted at /content/drive\n"
          ]
        }
      ]
    },
    {
      "cell_type": "code",
      "metadata": {
        "id": "A0vaUFPQ3596"
      },
      "source": [
        "path = '/content/drive/MyDrive/Colab Notebooks/Machine Learning/BTC-USD.csv'"
      ],
      "id": "A0vaUFPQ3596",
      "execution_count": null,
      "outputs": []
    },
    {
      "cell_type": "code",
      "metadata": {
        "id": "b759a9a8"
      },
      "source": [
        "#display floats with 2 decimal places\n",
        "pd.options.display.float_format = '{:,.2f}'.format\n",
        "\n",
        "#expand display limits\n",
        "pd.options.display.max_rows = 200\n",
        "pd.options.display.max_columns = 100"
      ],
      "id": "b759a9a8",
      "execution_count": null,
      "outputs": []
    },
    {
      "cell_type": "code",
      "metadata": {
        "scrolled": true,
        "colab": {
          "base_uri": "https://localhost:8080/"
        },
        "id": "a3952a55",
        "outputId": "3fed893d-284c-4218-88fd-125cba0c1bdd"
      },
      "source": [
        "#read BTC-USD sample dataset and turn Date column into index column of dataframe\n",
        "df = pd.read_csv(path, parse_dates=['Date'], index_col='Date', dayfirst=True)\n",
        "#display dataset\n",
        "print(df)"
      ],
      "id": "a3952a55",
      "execution_count": null,
      "outputs": [
        {
          "output_type": "stream",
          "name": "stdout",
          "text": [
            "                Open      High       Low     Close  Adj Close  \\\n",
            "Date                                                            \n",
            "2019-10-13  8,336.90  8,470.99  8,276.61  8,321.01   8,321.01   \n",
            "2019-10-14  8,320.83  8,390.21  8,284.13  8,374.69   8,374.69   \n",
            "2019-10-15  8,373.46  8,410.71  8,182.71  8,205.37   8,205.37   \n",
            "2019-10-16  8,204.67  8,216.81  7,985.09  8,047.53   8,047.53   \n",
            "2019-10-17  8,047.81  8,134.83  8,000.94  8,103.91   8,103.91   \n",
            "...              ...       ...       ...       ...        ...   \n",
            "2021-10-09 53,929.78 55,397.95 53,735.14 54,968.22  54,968.22   \n",
            "2021-10-10 54,952.82 56,401.30 54,264.26 54,771.58  54,771.58   \n",
            "2021-10-11 54,734.12 57,793.04 54,519.77 57,484.79  57,484.79   \n",
            "2021-10-12 57,526.83 57,627.88 54,477.97 56,041.06  56,041.06   \n",
            "2021-10-13 55,990.31 56,445.09 55,167.20 55,302.80  55,302.80   \n",
            "\n",
            "                      Volume  \n",
            "Date                          \n",
            "2019-10-13 13,808,286,059.00  \n",
            "2019-10-14 15,151,387,859.00  \n",
            "2019-10-15 15,220,412,632.00  \n",
            "2019-10-16 16,071,646,996.00  \n",
            "2019-10-17 14,313,052,244.00  \n",
            "...                      ...  \n",
            "2021-10-09 32,491,211,414.00  \n",
            "2021-10-10 39,527,792,364.00  \n",
            "2021-10-11 42,637,331,698.00  \n",
            "2021-10-12 41,083,758,949.00  \n",
            "2021-10-13 40,229,584,896.00  \n",
            "\n",
            "[732 rows x 6 columns]\n"
          ]
        }
      ]
    },
    {
      "cell_type": "code",
      "metadata": {
        "id": "P_AOex5Z4Y0o",
        "colab": {
          "base_uri": "https://localhost:8080/",
          "height": 234
        },
        "outputId": "49969dd4-93e5-4c23-f609-1e2165b04b33"
      },
      "source": [
        "#display first 5 observations\n",
        "df.head()"
      ],
      "id": "P_AOex5Z4Y0o",
      "execution_count": null,
      "outputs": [
        {
          "output_type": "execute_result",
          "data": {
            "text/html": [
              "<div>\n",
              "<style scoped>\n",
              "    .dataframe tbody tr th:only-of-type {\n",
              "        vertical-align: middle;\n",
              "    }\n",
              "\n",
              "    .dataframe tbody tr th {\n",
              "        vertical-align: top;\n",
              "    }\n",
              "\n",
              "    .dataframe thead th {\n",
              "        text-align: right;\n",
              "    }\n",
              "</style>\n",
              "<table border=\"1\" class=\"dataframe\">\n",
              "  <thead>\n",
              "    <tr style=\"text-align: right;\">\n",
              "      <th></th>\n",
              "      <th>Open</th>\n",
              "      <th>High</th>\n",
              "      <th>Low</th>\n",
              "      <th>Close</th>\n",
              "      <th>Adj Close</th>\n",
              "      <th>Volume</th>\n",
              "    </tr>\n",
              "    <tr>\n",
              "      <th>Date</th>\n",
              "      <th></th>\n",
              "      <th></th>\n",
              "      <th></th>\n",
              "      <th></th>\n",
              "      <th></th>\n",
              "      <th></th>\n",
              "    </tr>\n",
              "  </thead>\n",
              "  <tbody>\n",
              "    <tr>\n",
              "      <th>2019-10-13</th>\n",
              "      <td>8,336.90</td>\n",
              "      <td>8,470.99</td>\n",
              "      <td>8,276.61</td>\n",
              "      <td>8,321.01</td>\n",
              "      <td>8,321.01</td>\n",
              "      <td>13,808,286,059.00</td>\n",
              "    </tr>\n",
              "    <tr>\n",
              "      <th>2019-10-14</th>\n",
              "      <td>8,320.83</td>\n",
              "      <td>8,390.21</td>\n",
              "      <td>8,284.13</td>\n",
              "      <td>8,374.69</td>\n",
              "      <td>8,374.69</td>\n",
              "      <td>15,151,387,859.00</td>\n",
              "    </tr>\n",
              "    <tr>\n",
              "      <th>2019-10-15</th>\n",
              "      <td>8,373.46</td>\n",
              "      <td>8,410.71</td>\n",
              "      <td>8,182.71</td>\n",
              "      <td>8,205.37</td>\n",
              "      <td>8,205.37</td>\n",
              "      <td>15,220,412,632.00</td>\n",
              "    </tr>\n",
              "    <tr>\n",
              "      <th>2019-10-16</th>\n",
              "      <td>8,204.67</td>\n",
              "      <td>8,216.81</td>\n",
              "      <td>7,985.09</td>\n",
              "      <td>8,047.53</td>\n",
              "      <td>8,047.53</td>\n",
              "      <td>16,071,646,996.00</td>\n",
              "    </tr>\n",
              "    <tr>\n",
              "      <th>2019-10-17</th>\n",
              "      <td>8,047.81</td>\n",
              "      <td>8,134.83</td>\n",
              "      <td>8,000.94</td>\n",
              "      <td>8,103.91</td>\n",
              "      <td>8,103.91</td>\n",
              "      <td>14,313,052,244.00</td>\n",
              "    </tr>\n",
              "  </tbody>\n",
              "</table>\n",
              "</div>"
            ],
            "text/plain": [
              "               Open     High      Low    Close  Adj Close            Volume\n",
              "Date                                                                       \n",
              "2019-10-13 8,336.90 8,470.99 8,276.61 8,321.01   8,321.01 13,808,286,059.00\n",
              "2019-10-14 8,320.83 8,390.21 8,284.13 8,374.69   8,374.69 15,151,387,859.00\n",
              "2019-10-15 8,373.46 8,410.71 8,182.71 8,205.37   8,205.37 15,220,412,632.00\n",
              "2019-10-16 8,204.67 8,216.81 7,985.09 8,047.53   8,047.53 16,071,646,996.00\n",
              "2019-10-17 8,047.81 8,134.83 8,000.94 8,103.91   8,103.91 14,313,052,244.00"
            ]
          },
          "metadata": {},
          "execution_count": 6
        }
      ]
    },
    {
      "cell_type": "code",
      "metadata": {
        "id": "2be845f4",
        "colab": {
          "base_uri": "https://localhost:8080/",
          "height": 234
        },
        "outputId": "96aa2641-16e9-4004-b925-28cc9b92d463"
      },
      "source": [
        "#display last 5 observations\n",
        "df.tail()"
      ],
      "id": "2be845f4",
      "execution_count": null,
      "outputs": [
        {
          "output_type": "execute_result",
          "data": {
            "text/html": [
              "<div>\n",
              "<style scoped>\n",
              "    .dataframe tbody tr th:only-of-type {\n",
              "        vertical-align: middle;\n",
              "    }\n",
              "\n",
              "    .dataframe tbody tr th {\n",
              "        vertical-align: top;\n",
              "    }\n",
              "\n",
              "    .dataframe thead th {\n",
              "        text-align: right;\n",
              "    }\n",
              "</style>\n",
              "<table border=\"1\" class=\"dataframe\">\n",
              "  <thead>\n",
              "    <tr style=\"text-align: right;\">\n",
              "      <th></th>\n",
              "      <th>Open</th>\n",
              "      <th>High</th>\n",
              "      <th>Low</th>\n",
              "      <th>Close</th>\n",
              "      <th>Adj Close</th>\n",
              "      <th>Volume</th>\n",
              "    </tr>\n",
              "    <tr>\n",
              "      <th>Date</th>\n",
              "      <th></th>\n",
              "      <th></th>\n",
              "      <th></th>\n",
              "      <th></th>\n",
              "      <th></th>\n",
              "      <th></th>\n",
              "    </tr>\n",
              "  </thead>\n",
              "  <tbody>\n",
              "    <tr>\n",
              "      <th>2021-10-09</th>\n",
              "      <td>53,929.78</td>\n",
              "      <td>55,397.95</td>\n",
              "      <td>53,735.14</td>\n",
              "      <td>54,968.22</td>\n",
              "      <td>54,968.22</td>\n",
              "      <td>32,491,211,414.00</td>\n",
              "    </tr>\n",
              "    <tr>\n",
              "      <th>2021-10-10</th>\n",
              "      <td>54,952.82</td>\n",
              "      <td>56,401.30</td>\n",
              "      <td>54,264.26</td>\n",
              "      <td>54,771.58</td>\n",
              "      <td>54,771.58</td>\n",
              "      <td>39,527,792,364.00</td>\n",
              "    </tr>\n",
              "    <tr>\n",
              "      <th>2021-10-11</th>\n",
              "      <td>54,734.12</td>\n",
              "      <td>57,793.04</td>\n",
              "      <td>54,519.77</td>\n",
              "      <td>57,484.79</td>\n",
              "      <td>57,484.79</td>\n",
              "      <td>42,637,331,698.00</td>\n",
              "    </tr>\n",
              "    <tr>\n",
              "      <th>2021-10-12</th>\n",
              "      <td>57,526.83</td>\n",
              "      <td>57,627.88</td>\n",
              "      <td>54,477.97</td>\n",
              "      <td>56,041.06</td>\n",
              "      <td>56,041.06</td>\n",
              "      <td>41,083,758,949.00</td>\n",
              "    </tr>\n",
              "    <tr>\n",
              "      <th>2021-10-13</th>\n",
              "      <td>55,990.31</td>\n",
              "      <td>56,445.09</td>\n",
              "      <td>55,167.20</td>\n",
              "      <td>55,302.80</td>\n",
              "      <td>55,302.80</td>\n",
              "      <td>40,229,584,896.00</td>\n",
              "    </tr>\n",
              "  </tbody>\n",
              "</table>\n",
              "</div>"
            ],
            "text/plain": [
              "                Open      High       Low     Close  Adj Close  \\\n",
              "Date                                                            \n",
              "2021-10-09 53,929.78 55,397.95 53,735.14 54,968.22  54,968.22   \n",
              "2021-10-10 54,952.82 56,401.30 54,264.26 54,771.58  54,771.58   \n",
              "2021-10-11 54,734.12 57,793.04 54,519.77 57,484.79  57,484.79   \n",
              "2021-10-12 57,526.83 57,627.88 54,477.97 56,041.06  56,041.06   \n",
              "2021-10-13 55,990.31 56,445.09 55,167.20 55,302.80  55,302.80   \n",
              "\n",
              "                      Volume  \n",
              "Date                          \n",
              "2021-10-09 32,491,211,414.00  \n",
              "2021-10-10 39,527,792,364.00  \n",
              "2021-10-11 42,637,331,698.00  \n",
              "2021-10-12 41,083,758,949.00  \n",
              "2021-10-13 40,229,584,896.00  "
            ]
          },
          "metadata": {},
          "execution_count": 7
        }
      ]
    },
    {
      "cell_type": "code",
      "metadata": {
        "id": "b2ab9df3",
        "colab": {
          "base_uri": "https://localhost:8080/"
        },
        "outputId": "e7355ff7-29ec-4daf-ea9a-5dba7e6bfeb4"
      },
      "source": [
        "#rows and columns of dataset\n",
        "df.shape"
      ],
      "id": "b2ab9df3",
      "execution_count": null,
      "outputs": [
        {
          "output_type": "execute_result",
          "data": {
            "text/plain": [
              "(732, 6)"
            ]
          },
          "metadata": {},
          "execution_count": 8
        }
      ]
    },
    {
      "cell_type": "code",
      "metadata": {
        "id": "6c4ad915",
        "colab": {
          "base_uri": "https://localhost:8080/",
          "height": 295
        },
        "outputId": "b35b0dab-e822-441f-cfc6-bef2ec1e73e7"
      },
      "source": [
        "df.describe()"
      ],
      "id": "6c4ad915",
      "execution_count": null,
      "outputs": [
        {
          "output_type": "execute_result",
          "data": {
            "text/html": [
              "<div>\n",
              "<style scoped>\n",
              "    .dataframe tbody tr th:only-of-type {\n",
              "        vertical-align: middle;\n",
              "    }\n",
              "\n",
              "    .dataframe tbody tr th {\n",
              "        vertical-align: top;\n",
              "    }\n",
              "\n",
              "    .dataframe thead th {\n",
              "        text-align: right;\n",
              "    }\n",
              "</style>\n",
              "<table border=\"1\" class=\"dataframe\">\n",
              "  <thead>\n",
              "    <tr style=\"text-align: right;\">\n",
              "      <th></th>\n",
              "      <th>Open</th>\n",
              "      <th>High</th>\n",
              "      <th>Low</th>\n",
              "      <th>Close</th>\n",
              "      <th>Adj Close</th>\n",
              "      <th>Volume</th>\n",
              "    </tr>\n",
              "  </thead>\n",
              "  <tbody>\n",
              "    <tr>\n",
              "      <th>count</th>\n",
              "      <td>728.00</td>\n",
              "      <td>728.00</td>\n",
              "      <td>728.00</td>\n",
              "      <td>728.00</td>\n",
              "      <td>728.00</td>\n",
              "      <td>728.00</td>\n",
              "    </tr>\n",
              "    <tr>\n",
              "      <th>mean</th>\n",
              "      <td>24,008.85</td>\n",
              "      <td>24,694.45</td>\n",
              "      <td>23,275.27</td>\n",
              "      <td>24,070.90</td>\n",
              "      <td>24,070.90</td>\n",
              "      <td>38,223,146,983.13</td>\n",
              "    </tr>\n",
              "    <tr>\n",
              "      <th>std</th>\n",
              "      <td>18,009.60</td>\n",
              "      <td>18,567.73</td>\n",
              "      <td>17,372.97</td>\n",
              "      <td>18,037.15</td>\n",
              "      <td>18,037.15</td>\n",
              "      <td>21,391,808,624.66</td>\n",
              "    </tr>\n",
              "    <tr>\n",
              "      <th>min</th>\n",
              "      <td>5,002.58</td>\n",
              "      <td>5,331.83</td>\n",
              "      <td>4,106.98</td>\n",
              "      <td>4,970.79</td>\n",
              "      <td>4,970.79</td>\n",
              "      <td>12,252,601,475.00</td>\n",
              "    </tr>\n",
              "    <tr>\n",
              "      <th>25%</th>\n",
              "      <td>9,166.50</td>\n",
              "      <td>9,281.80</td>\n",
              "      <td>9,040.56</td>\n",
              "      <td>9,176.78</td>\n",
              "      <td>9,176.78</td>\n",
              "      <td>24,084,561,500.50</td>\n",
              "    </tr>\n",
              "    <tr>\n",
              "      <th>50%</th>\n",
              "      <td>11,872.36</td>\n",
              "      <td>12,031.53</td>\n",
              "      <td>11,686.39</td>\n",
              "      <td>11,878.24</td>\n",
              "      <td>11,878.24</td>\n",
              "      <td>34,274,559,074.50</td>\n",
              "    </tr>\n",
              "    <tr>\n",
              "      <th>75%</th>\n",
              "      <td>39,333.11</td>\n",
              "      <td>40,823.69</td>\n",
              "      <td>37,637.39</td>\n",
              "      <td>39,380.02</td>\n",
              "      <td>39,380.02</td>\n",
              "      <td>46,680,147,621.50</td>\n",
              "    </tr>\n",
              "    <tr>\n",
              "      <th>max</th>\n",
              "      <td>63,523.75</td>\n",
              "      <td>64,863.10</td>\n",
              "      <td>62,208.96</td>\n",
              "      <td>63,503.46</td>\n",
              "      <td>63,503.46</td>\n",
              "      <td>350,967,941,479.00</td>\n",
              "    </tr>\n",
              "  </tbody>\n",
              "</table>\n",
              "</div>"
            ],
            "text/plain": [
              "           Open      High       Low     Close  Adj Close             Volume\n",
              "count    728.00    728.00    728.00    728.00     728.00             728.00\n",
              "mean  24,008.85 24,694.45 23,275.27 24,070.90  24,070.90  38,223,146,983.13\n",
              "std   18,009.60 18,567.73 17,372.97 18,037.15  18,037.15  21,391,808,624.66\n",
              "min    5,002.58  5,331.83  4,106.98  4,970.79   4,970.79  12,252,601,475.00\n",
              "25%    9,166.50  9,281.80  9,040.56  9,176.78   9,176.78  24,084,561,500.50\n",
              "50%   11,872.36 12,031.53 11,686.39 11,878.24  11,878.24  34,274,559,074.50\n",
              "75%   39,333.11 40,823.69 37,637.39 39,380.02  39,380.02  46,680,147,621.50\n",
              "max   63,523.75 64,863.10 62,208.96 63,503.46  63,503.46 350,967,941,479.00"
            ]
          },
          "metadata": {},
          "execution_count": 9
        }
      ]
    },
    {
      "cell_type": "code",
      "metadata": {
        "id": "5471d9cd",
        "colab": {
          "base_uri": "https://localhost:8080/"
        },
        "outputId": "36e9e724-faa6-4eb0-ced8-d3513e39ae68"
      },
      "source": [
        "#check null values in features\n",
        "df.isnull().any()"
      ],
      "id": "5471d9cd",
      "execution_count": null,
      "outputs": [
        {
          "output_type": "execute_result",
          "data": {
            "text/plain": [
              "Open         True\n",
              "High         True\n",
              "Low          True\n",
              "Close        True\n",
              "Adj Close    True\n",
              "Volume       True\n",
              "dtype: bool"
            ]
          },
          "metadata": {},
          "execution_count": 10
        }
      ]
    },
    {
      "cell_type": "code",
      "metadata": {
        "id": "a258f7c5",
        "colab": {
          "base_uri": "https://localhost:8080/"
        },
        "outputId": "d3e1755e-1872-4831-d336-7737236a63a0"
      },
      "source": [
        "#calculating sum of null values in each feature\n",
        "df.isnull().sum()"
      ],
      "id": "a258f7c5",
      "execution_count": null,
      "outputs": [
        {
          "output_type": "execute_result",
          "data": {
            "text/plain": [
              "Open         4\n",
              "High         4\n",
              "Low          4\n",
              "Close        4\n",
              "Adj Close    4\n",
              "Volume       4\n",
              "dtype: int64"
            ]
          },
          "metadata": {},
          "execution_count": 11
        }
      ]
    },
    {
      "cell_type": "code",
      "metadata": {
        "colab": {
          "base_uri": "https://localhost:8080/",
          "height": 276
        },
        "id": "_GiSZUqaY0Mo",
        "outputId": "ca28e914-6a9b-4dc5-e22a-35f523b601da"
      },
      "source": [
        "#Plotting boxplot to check if there are any outliers in every feature of dataset\n",
        "#there are outliers in Volume column\n",
        "df.boxplot()\n",
        "plt.show()"
      ],
      "id": "_GiSZUqaY0Mo",
      "execution_count": null,
      "outputs": [
        {
          "output_type": "display_data",
          "data": {
            "image/png": "[encoded data removed]",
            "text/plain": [
              "<Figure size 432x288 with 1 Axes>"
            ]
          },
          "metadata": {
            "needs_background": "light"
          }
        }
      ]
    },
    {
      "cell_type": "code",
      "metadata": {
        "colab": {
          "base_uri": "https://localhost:8080/",
          "height": 276
        },
        "id": "glkp0jYvxh67",
        "outputId": "94590567-bac5-4af0-ec89-3f384267a97f"
      },
      "source": [
        "df[['Volume']].boxplot()\n",
        "plt.show()"
      ],
      "id": "glkp0jYvxh67",
      "execution_count": null,
      "outputs": [
        {
          "output_type": "display_data",
          "data": {
            "image/png": "[encoded data removed]",
            "text/plain": [
              "<Figure size 432x288 with 1 Axes>"
            ]
          },
          "metadata": {
            "needs_background": "light"
          }
        }
      ]
    },
    {
      "cell_type": "code",
      "metadata": {
        "colab": {
          "base_uri": "https://localhost:8080/",
          "height": 265
        },
        "id": "FBpDCWQJJP2N",
        "outputId": "18bd72ef-c465-4f89-9738-93685db1f39e"
      },
      "source": [
        "df[['Open', 'High', 'Low', 'Close', 'Adj Close']].boxplot()\n",
        "plt.show()"
      ],
      "id": "FBpDCWQJJP2N",
      "execution_count": null,
      "outputs": [
        {
          "output_type": "display_data",
          "data": {
            "image/png": "[encoded data removed]",
            "text/plain": [
              "<Figure size 432x288 with 1 Axes>"
            ]
          },
          "metadata": {
            "needs_background": "light"
          }
        }
      ]
    },
    {
      "cell_type": "code",
      "metadata": {
        "colab": {
          "base_uri": "https://localhost:8080/",
          "height": 422
        },
        "id": "h6wDnAiHc-0S",
        "outputId": "22c455b2-411a-43f9-99ab-299275c034d7"
      },
      "source": [
        "#we plot the average of close price in 30 days, compared with the close price\n",
        "sns.set()\n",
        "sns.set_style('whitegrid')\n",
        "df['Close'].plot(figsize=(12, 6), label='Close')\n",
        "df['Close'].rolling(window=30).mean().plot(label='30 Day Average')\n",
        "plt.legend()"
      ],
      "id": "h6wDnAiHc-0S",
      "execution_count": null,
      "outputs": [
        {
          "output_type": "execute_result",
          "data": {
            "text/plain": [
              "<matplotlib.legend.Legend at 0x7f754965e290>"
            ]
          },
          "metadata": {},
          "execution_count": 15
        },
        {
          "output_type": "display_data",
          "data": {
            "image/png": "[encoded data removed]",
            "text/plain": [
              "<Figure size 864x432 with 1 Axes>"
            ]
          },
          "metadata": {}
        }
      ]
    },
    {
      "cell_type": "markdown",
      "metadata": {
        "id": "Y4dgAWmJKAGm"
      },
      "source": [
        "#Solving missing values"
      ],
      "id": "Y4dgAWmJKAGm"
    },
    {
      "cell_type": "code",
      "metadata": {
        "id": "xD8zm-JFZSOt"
      },
      "source": [
        "#solving missing values\n",
        "df.dropna(inplace=True)"
      ],
      "id": "xD8zm-JFZSOt",
      "execution_count": null,
      "outputs": []
    },
    {
      "cell_type": "code",
      "metadata": {
        "colab": {
          "base_uri": "https://localhost:8080/"
        },
        "id": "u4Y8TXO_bzAD",
        "outputId": "6de6a69b-d6e6-4467-ffc0-6954e3479f10"
      },
      "source": [
        "#check null values in features\n",
        "df.isnull().any()"
      ],
      "id": "u4Y8TXO_bzAD",
      "execution_count": null,
      "outputs": [
        {
          "output_type": "execute_result",
          "data": {
            "text/plain": [
              "Open         False\n",
              "High         False\n",
              "Low          False\n",
              "Close        False\n",
              "Adj Close    False\n",
              "Volume       False\n",
              "dtype: bool"
            ]
          },
          "metadata": {},
          "execution_count": 17
        }
      ]
    },
    {
      "cell_type": "code",
      "metadata": {
        "colab": {
          "base_uri": "https://localhost:8080/",
          "height": 268
        },
        "id": "FCeUpabkJntQ",
        "outputId": "f77ccee9-9ec4-46e3-98f5-c9a10b4259a0"
      },
      "source": [
        "df[['Open', 'High', 'Low', 'Close', 'Adj Close']].boxplot()\n",
        "plt.show()"
      ],
      "id": "FCeUpabkJntQ",
      "execution_count": null,
      "outputs": [
        {
          "output_type": "display_data",
          "data": {
            "image/png": "[encoded data removed]",
            "text/plain": [
              "<Figure size 432x288 with 1 Axes>"
            ]
          },
          "metadata": {}
        }
      ]
    },
    {
      "cell_type": "code",
      "metadata": {
        "colab": {
          "base_uri": "https://localhost:8080/",
          "height": 279
        },
        "id": "rnOtfllRBG6l",
        "outputId": "1468a63c-3ad2-47df-a81b-1a608f1bb5b8"
      },
      "source": [
        "#Plotting boxplot to check if there are any outliers in every feature of dataset\n",
        "#there are outliers in Volume column\n",
        "df.boxplot()\n",
        "plt.show()"
      ],
      "id": "rnOtfllRBG6l",
      "execution_count": null,
      "outputs": [
        {
          "output_type": "display_data",
          "data": {
            "image/png": "[encoded data removed]",
            "text/plain": [
              "<Figure size 432x288 with 1 Axes>"
            ]
          },
          "metadata": {}
        }
      ]
    },
    {
      "cell_type": "code",
      "metadata": {
        "colab": {
          "base_uri": "https://localhost:8080/",
          "height": 400
        },
        "id": "36PSSS6NdJgP",
        "outputId": "ff790abe-9f87-498a-e6bc-ad7eca4a54a0"
      },
      "source": [
        "#Visualizing again the average of close price in 30 days and close price to check\n",
        "#dataset after we drop missing values\n",
        "#we can see that there are some changes in the graph\n",
        "sns.set()\n",
        "sns.set_style('whitegrid')\n",
        "df['Close'].plot(figsize=(12, 6), label='Close')\n",
        "df['Close'].rolling(window=30).mean().plot(label='30-day average')\n",
        "plt.legend()"
      ],
      "id": "36PSSS6NdJgP",
      "execution_count": null,
      "outputs": [
        {
          "output_type": "execute_result",
          "data": {
            "text/plain": [
              "<matplotlib.legend.Legend at 0x7f754835d390>"
            ]
          },
          "metadata": {},
          "execution_count": 20
        },
        {
          "output_type": "display_data",
          "data": {
            "image/png": "[encoded data removed]",
            "text/plain": [
              "<Figure size 864x432 with 1 Axes>"
            ]
          },
          "metadata": {}
        }
      ]
    },
    {
      "cell_type": "code",
      "metadata": {
        "colab": {
          "base_uri": "https://localhost:8080/",
          "height": 355
        },
        "id": "ABgdd0GwG8OF",
        "outputId": "99ca5302-8be7-4b06-9b6e-2b6ba9cac233"
      },
      "source": [
        "#The average close price graph for each day in 2019\n",
        "df['Close'].loc['2019'].groupby(by=df['Close'].loc['2019'].\n",
        "                                  index.dayofweek).mean().plot(figsize=(15, 5),\n",
        "                                                               style=['--x'],\n",
        "                                                               Linewidth=2,\n",
        "                                                               markersize=10)\n",
        "plt.grid(True, axis='y', linestyle='-.')\n",
        "plt.xticks(range(7), ['Sunday', 'Monday', 'Tuesday', 'Wednesday', 'Thursday', 'Friday', 'Saturday'])\n",
        "plt.title('The Average Close Price Graph for each day in 2019')\n",
        "plt.show()"
      ],
      "id": "ABgdd0GwG8OF",
      "execution_count": null,
      "outputs": [
        {
          "output_type": "display_data",
          "data": {
            "image/png": "[encoded data removed]",
            "text/plain": [
              "<Figure size 1080x360 with 1 Axes>"
            ]
          },
          "metadata": {}
        }
      ]
    },
    {
      "cell_type": "code",
      "metadata": {
        "colab": {
          "base_uri": "https://localhost:8080/",
          "height": 355
        },
        "id": "4NV9Kq2_HGVj",
        "outputId": "d8ad85f7-2f58-461e-f045-e429bf03a0cc"
      },
      "source": [
        "#The average close price graph for each day in 2020\n",
        "df['Close'].loc['2020'].groupby(by=df['Close'].loc['2020'].\n",
        "                                  index.dayofweek).mean().plot(figsize=(15, 5),\n",
        "                                                               style=['--x'],\n",
        "                                                               Linewidth=2,\n",
        "                                                               markersize=10)\n",
        "plt.grid(True, axis='y', linestyle='-.')\n",
        "plt.xticks(range(7), ['Sunday', 'Monday', 'Tuesday', 'Wednesday', 'Thursday', 'Friday', 'Saturday'])\n",
        "plt.title('The Average Close Price Graph for each day in 2021')\n",
        "plt.show()"
      ],
      "id": "4NV9Kq2_HGVj",
      "execution_count": null,
      "outputs": [
        {
          "output_type": "display_data",
          "data": {
            "image/png": "[encoded data removed]",
            "text/plain": [
              "<Figure size 1080x360 with 1 Axes>"
            ]
          },
          "metadata": {}
        }
      ]
    },
    {
      "cell_type": "code",
      "metadata": {
        "colab": {
          "base_uri": "https://localhost:8080/",
          "height": 355
        },
        "id": "76oe2wEfHGbb",
        "outputId": "76385492-9e6f-4d2c-d49f-af7c74d3f6dd"
      },
      "source": [
        "#The average close price graph for each day in 2021\n",
        "df['Close'].loc['2021'].groupby(by=df['Close'].loc['2021'].\n",
        "                                  index.dayofweek).mean().plot(figsize=(15, 5),\n",
        "                                                               style=['--x'],\n",
        "                                                               Linewidth=2,\n",
        "                                                               markersize=10)\n",
        "plt.grid(True, axis='y', linestyle='-.')\n",
        "plt.xticks(range(7), ['Sunday', 'Monday', 'Tuesday', 'Wednesday', 'Thursday', 'Friday', 'Saturday'])\n",
        "plt.title('The Average Close Price Graph for each day in 2021')\n",
        "plt.show()"
      ],
      "id": "76oe2wEfHGbb",
      "execution_count": null,
      "outputs": [
        {
          "output_type": "display_data",
          "data": {
            "image/png": "[encoded data removed]",
            "text/plain": [
              "<Figure size 1080x360 with 1 Axes>"
            ]
          },
          "metadata": {}
        }
      ]
    },
    {
      "cell_type": "code",
      "metadata": {
        "id": "-rnBaYwghk08"
      },
      "source": [
        "#Now we get the values from the 30th position til the end of Close column and put\n",
        "#them in Price_After_Month column\n",
        "df['Price_After_Month']=df['Close'].shift(-30)"
      ],
      "id": "-rnBaYwghk08",
      "execution_count": null,
      "outputs": []
    },
    {
      "cell_type": "code",
      "metadata": {
        "colab": {
          "base_uri": "https://localhost:8080/",
          "height": 234
        },
        "id": "ZYB3SOC1h1hu",
        "outputId": "361e3fa3-7da2-4cb9-f4a3-1551489b7e8e"
      },
      "source": [
        "df.head()"
      ],
      "id": "ZYB3SOC1h1hu",
      "execution_count": null,
      "outputs": [
        {
          "output_type": "execute_result",
          "data": {
            "text/html": [
              "<div>\n",
              "<style scoped>\n",
              "    .dataframe tbody tr th:only-of-type {\n",
              "        vertical-align: middle;\n",
              "    }\n",
              "\n",
              "    .dataframe tbody tr th {\n",
              "        vertical-align: top;\n",
              "    }\n",
              "\n",
              "    .dataframe thead th {\n",
              "        text-align: right;\n",
              "    }\n",
              "</style>\n",
              "<table border=\"1\" class=\"dataframe\">\n",
              "  <thead>\n",
              "    <tr style=\"text-align: right;\">\n",
              "      <th></th>\n",
              "      <th>Open</th>\n",
              "      <th>High</th>\n",
              "      <th>Low</th>\n",
              "      <th>Close</th>\n",
              "      <th>Adj Close</th>\n",
              "      <th>Volume</th>\n",
              "      <th>Price_After_Month</th>\n",
              "    </tr>\n",
              "    <tr>\n",
              "      <th>Date</th>\n",
              "      <th></th>\n",
              "      <th></th>\n",
              "      <th></th>\n",
              "      <th></th>\n",
              "      <th></th>\n",
              "      <th></th>\n",
              "      <th></th>\n",
              "    </tr>\n",
              "  </thead>\n",
              "  <tbody>\n",
              "    <tr>\n",
              "      <th>2019-10-13</th>\n",
              "      <td>8,336.90</td>\n",
              "      <td>8,470.99</td>\n",
              "      <td>8,276.61</td>\n",
              "      <td>8,321.01</td>\n",
              "      <td>8,321.01</td>\n",
              "      <td>13,808,286,059.00</td>\n",
              "      <td>8,815.66</td>\n",
              "    </tr>\n",
              "    <tr>\n",
              "      <th>2019-10-14</th>\n",
              "      <td>8,320.83</td>\n",
              "      <td>8,390.21</td>\n",
              "      <td>8,284.13</td>\n",
              "      <td>8,374.69</td>\n",
              "      <td>8,374.69</td>\n",
              "      <td>15,151,387,859.00</td>\n",
              "      <td>8,808.26</td>\n",
              "    </tr>\n",
              "    <tr>\n",
              "      <th>2019-10-15</th>\n",
              "      <td>8,373.46</td>\n",
              "      <td>8,410.71</td>\n",
              "      <td>8,182.71</td>\n",
              "      <td>8,205.37</td>\n",
              "      <td>8,205.37</td>\n",
              "      <td>15,220,412,632.00</td>\n",
              "      <td>8,708.09</td>\n",
              "    </tr>\n",
              "    <tr>\n",
              "      <th>2019-10-16</th>\n",
              "      <td>8,204.67</td>\n",
              "      <td>8,216.81</td>\n",
              "      <td>7,985.09</td>\n",
              "      <td>8,047.53</td>\n",
              "      <td>8,047.53</td>\n",
              "      <td>16,071,646,996.00</td>\n",
              "      <td>8,491.99</td>\n",
              "    </tr>\n",
              "    <tr>\n",
              "      <th>2019-10-17</th>\n",
              "      <td>8,047.81</td>\n",
              "      <td>8,134.83</td>\n",
              "      <td>8,000.94</td>\n",
              "      <td>8,103.91</td>\n",
              "      <td>8,103.91</td>\n",
              "      <td>14,313,052,244.00</td>\n",
              "      <td>8,550.76</td>\n",
              "    </tr>\n",
              "  </tbody>\n",
              "</table>\n",
              "</div>"
            ],
            "text/plain": [
              "               Open     High      Low    Close  Adj Close            Volume  \\\n",
              "Date                                                                          \n",
              "2019-10-13 8,336.90 8,470.99 8,276.61 8,321.01   8,321.01 13,808,286,059.00   \n",
              "2019-10-14 8,320.83 8,390.21 8,284.13 8,374.69   8,374.69 15,151,387,859.00   \n",
              "2019-10-15 8,373.46 8,410.71 8,182.71 8,205.37   8,205.37 15,220,412,632.00   \n",
              "2019-10-16 8,204.67 8,216.81 7,985.09 8,047.53   8,047.53 16,071,646,996.00   \n",
              "2019-10-17 8,047.81 8,134.83 8,000.94 8,103.91   8,103.91 14,313,052,244.00   \n",
              "\n",
              "            Price_After_Month  \n",
              "Date                           \n",
              "2019-10-13           8,815.66  \n",
              "2019-10-14           8,808.26  \n",
              "2019-10-15           8,708.09  \n",
              "2019-10-16           8,491.99  \n",
              "2019-10-17           8,550.76  "
            ]
          },
          "metadata": {},
          "execution_count": 25
        }
      ]
    },
    {
      "cell_type": "code",
      "metadata": {
        "colab": {
          "base_uri": "https://localhost:8080/",
          "height": 234
        },
        "id": "h08Sdc6AiA9l",
        "outputId": "e9516146-fd45-4adc-9f0f-536ece441685"
      },
      "source": [
        "#We can see there are missing values at the bottom of Price_After_Month column\n",
        "#because we ignored 30 values at the top of Close column\n",
        "df.tail()"
      ],
      "id": "h08Sdc6AiA9l",
      "execution_count": null,
      "outputs": [
        {
          "output_type": "execute_result",
          "data": {
            "text/html": [
              "<div>\n",
              "<style scoped>\n",
              "    .dataframe tbody tr th:only-of-type {\n",
              "        vertical-align: middle;\n",
              "    }\n",
              "\n",
              "    .dataframe tbody tr th {\n",
              "        vertical-align: top;\n",
              "    }\n",
              "\n",
              "    .dataframe thead th {\n",
              "        text-align: right;\n",
              "    }\n",
              "</style>\n",
              "<table border=\"1\" class=\"dataframe\">\n",
              "  <thead>\n",
              "    <tr style=\"text-align: right;\">\n",
              "      <th></th>\n",
              "      <th>Open</th>\n",
              "      <th>High</th>\n",
              "      <th>Low</th>\n",
              "      <th>Close</th>\n",
              "      <th>Adj Close</th>\n",
              "      <th>Volume</th>\n",
              "      <th>Price_After_Month</th>\n",
              "    </tr>\n",
              "    <tr>\n",
              "      <th>Date</th>\n",
              "      <th></th>\n",
              "      <th></th>\n",
              "      <th></th>\n",
              "      <th></th>\n",
              "      <th></th>\n",
              "      <th></th>\n",
              "      <th></th>\n",
              "    </tr>\n",
              "  </thead>\n",
              "  <tbody>\n",
              "    <tr>\n",
              "      <th>2021-10-09</th>\n",
              "      <td>53,929.78</td>\n",
              "      <td>55,397.95</td>\n",
              "      <td>53,735.14</td>\n",
              "      <td>54,968.22</td>\n",
              "      <td>54,968.22</td>\n",
              "      <td>32,491,211,414.00</td>\n",
              "      <td>nan</td>\n",
              "    </tr>\n",
              "    <tr>\n",
              "      <th>2021-10-10</th>\n",
              "      <td>54,952.82</td>\n",
              "      <td>56,401.30</td>\n",
              "      <td>54,264.26</td>\n",
              "      <td>54,771.58</td>\n",
              "      <td>54,771.58</td>\n",
              "      <td>39,527,792,364.00</td>\n",
              "      <td>nan</td>\n",
              "    </tr>\n",
              "    <tr>\n",
              "      <th>2021-10-11</th>\n",
              "      <td>54,734.12</td>\n",
              "      <td>57,793.04</td>\n",
              "      <td>54,519.77</td>\n",
              "      <td>57,484.79</td>\n",
              "      <td>57,484.79</td>\n",
              "      <td>42,637,331,698.00</td>\n",
              "      <td>nan</td>\n",
              "    </tr>\n",
              "    <tr>\n",
              "      <th>2021-10-12</th>\n",
              "      <td>57,526.83</td>\n",
              "      <td>57,627.88</td>\n",
              "      <td>54,477.97</td>\n",
              "      <td>56,041.06</td>\n",
              "      <td>56,041.06</td>\n",
              "      <td>41,083,758,949.00</td>\n",
              "      <td>nan</td>\n",
              "    </tr>\n",
              "    <tr>\n",
              "      <th>2021-10-13</th>\n",
              "      <td>55,990.31</td>\n",
              "      <td>56,445.09</td>\n",
              "      <td>55,167.20</td>\n",
              "      <td>55,302.80</td>\n",
              "      <td>55,302.80</td>\n",
              "      <td>40,229,584,896.00</td>\n",
              "      <td>nan</td>\n",
              "    </tr>\n",
              "  </tbody>\n",
              "</table>\n",
              "</div>"
            ],
            "text/plain": [
              "                Open      High       Low     Close  Adj Close  \\\n",
              "Date                                                            \n",
              "2021-10-09 53,929.78 55,397.95 53,735.14 54,968.22  54,968.22   \n",
              "2021-10-10 54,952.82 56,401.30 54,264.26 54,771.58  54,771.58   \n",
              "2021-10-11 54,734.12 57,793.04 54,519.77 57,484.79  57,484.79   \n",
              "2021-10-12 57,526.83 57,627.88 54,477.97 56,041.06  56,041.06   \n",
              "2021-10-13 55,990.31 56,445.09 55,167.20 55,302.80  55,302.80   \n",
              "\n",
              "                      Volume  Price_After_Month  \n",
              "Date                                             \n",
              "2021-10-09 32,491,211,414.00                nan  \n",
              "2021-10-10 39,527,792,364.00                nan  \n",
              "2021-10-11 42,637,331,698.00                nan  \n",
              "2021-10-12 41,083,758,949.00                nan  \n",
              "2021-10-13 40,229,584,896.00                nan  "
            ]
          },
          "metadata": {},
          "execution_count": 26
        }
      ]
    },
    {
      "cell_type": "code",
      "metadata": {
        "colab": {
          "base_uri": "https://localhost:8080/"
        },
        "id": "BoLCFD_eiKop",
        "outputId": "1ac612e4-e870-4b6d-9c03-1347aee603f4"
      },
      "source": [
        "df.isnull().sum()"
      ],
      "id": "BoLCFD_eiKop",
      "execution_count": null,
      "outputs": [
        {
          "output_type": "execute_result",
          "data": {
            "text/plain": [
              "Open                  0\n",
              "High                  0\n",
              "Low                   0\n",
              "Close                 0\n",
              "Adj Close             0\n",
              "Volume                0\n",
              "Price_After_Month    30\n",
              "dtype: int64"
            ]
          },
          "metadata": {},
          "execution_count": 27
        }
      ]
    },
    {
      "cell_type": "code",
      "metadata": {
        "colab": {
          "base_uri": "https://localhost:8080/"
        },
        "id": "iTJegGieiUxB",
        "outputId": "badcafb5-49f2-45a6-f9ba-2fff42d48672"
      },
      "source": [
        "#Now we will preprocessing data and we will use the mean removal method \n",
        "#to remove a mean from every feature so that it could center on zero\n",
        "#It also helps to remove bias from the feature\n",
        "from sklearn import preprocessing\n",
        "df.dropna(inplace=True)\n",
        "X=df.drop('Price_After_Month', axis=1).values\n",
        "X=preprocessing.scale(X)\n",
        "y=df['Price_After_Month'].values"
      ],
      "id": "iTJegGieiUxB",
      "execution_count": null,
      "outputs": [
        {
          "output_type": "stream",
          "name": "stderr",
          "text": [
            "/usr/local/lib/python3.7/dist-packages/sklearn/preprocessing/_data.py:173: UserWarning: Numerical issues were encountered when centering the data and might not be solved. Dataset may contain too large values. You may need to prescale your features.\n",
            "  warnings.warn(\"Numerical issues were encountered \"\n"
          ]
        }
      ]
    },
    {
      "cell_type": "code",
      "metadata": {
        "colab": {
          "base_uri": "https://localhost:8080/"
        },
        "id": "KtU8uDRHiijw",
        "outputId": "6f541cd0-a1f2-4962-d0c4-f55a438f9464"
      },
      "source": [
        "#Now the mean of every feature in input date is almost equal 0\n",
        "X.mean(axis=0)"
      ],
      "id": "KtU8uDRHiijw",
      "execution_count": null,
      "outputs": [
        {
          "output_type": "execute_result",
          "data": {
            "text/plain": [
              "array([ 8.14375628e-17, -8.14375628e-17,  0.00000000e+00, -8.14375628e-17,\n",
              "       -8.14375628e-17, -4.07187814e-17])"
            ]
          },
          "metadata": {},
          "execution_count": 29
        }
      ]
    },
    {
      "cell_type": "code",
      "metadata": {
        "colab": {
          "base_uri": "https://localhost:8080/"
        },
        "id": "fj3m1Jfzir7I",
        "outputId": "ae5f3764-a3be-4c92-e58d-8e4f37d0639b"
      },
      "source": [
        "#standarn deviation (độ lệch chuẩn)\n",
        "X.std()"
      ],
      "id": "fj3m1Jfzir7I",
      "execution_count": null,
      "outputs": [
        {
          "output_type": "execute_result",
          "data": {
            "text/plain": [
              "1.0"
            ]
          },
          "metadata": {},
          "execution_count": 30
        }
      ]
    },
    {
      "cell_type": "code",
      "metadata": {
        "id": "chdfOXJqi1DQ"
      },
      "source": [
        "#We will split the dataset into 2 parts, 70% for training and 30% for testing\n",
        "from sklearn.model_selection import train_test_split\n",
        "X_train, X_test, y_train, y_test = train_test_split(X, y, test_size=0.3, random_state=42)"
      ],
      "id": "chdfOXJqi1DQ",
      "execution_count": null,
      "outputs": []
    },
    {
      "cell_type": "markdown",
      "metadata": {
        "id": "2qBF4RW1gyOv"
      },
      "source": [
        "#Random Forest\n"
      ],
      "id": "2qBF4RW1gyOv"
    },
    {
      "cell_type": "code",
      "metadata": {
        "id": "-4_LsiHIptWm",
        "colab": {
          "base_uri": "https://localhost:8080/"
        },
        "outputId": "d4116358-4c3b-4b08-cac3-d41b1a806e4d"
      },
      "source": [
        "from sklearn.ensemble import RandomForestRegressor\n",
        "\n",
        "reg=RandomForestRegressor(n_estimators=500,random_state=42, max_features=0.3, max_depth=10, min_samples_leaf=3)\n",
        "#fit the model\n",
        "reg.fit(X_train,y_train)"
      ],
      "id": "-4_LsiHIptWm",
      "execution_count": null,
      "outputs": [
        {
          "output_type": "execute_result",
          "data": {
            "text/plain": [
              "RandomForestRegressor(bootstrap=True, ccp_alpha=0.0, criterion='mse',\n",
              "                      max_depth=10, max_features=0.3, max_leaf_nodes=None,\n",
              "                      max_samples=None, min_impurity_decrease=0.0,\n",
              "                      min_impurity_split=None, min_samples_leaf=3,\n",
              "                      min_samples_split=2, min_weight_fraction_leaf=0.0,\n",
              "                      n_estimators=500, n_jobs=None, oob_score=False,\n",
              "                      random_state=42, verbose=0, warm_start=False)"
            ]
          },
          "metadata": {},
          "execution_count": 32
        }
      ]
    },
    {
      "cell_type": "code",
      "metadata": {
        "colab": {
          "base_uri": "https://localhost:8080/"
        },
        "id": "L6DuAYW_qE0q",
        "outputId": "509a4d9f-c20e-4c2e-c756-3a77259d4e20"
      },
      "source": [
        "#calculating the importance of feature\n",
        "reg.feature_importances_"
      ],
      "id": "L6DuAYW_qE0q",
      "execution_count": null,
      "outputs": [
        {
          "output_type": "execute_result",
          "data": {
            "text/plain": [
              "array([0.18638077, 0.19487721, 0.17472915, 0.17549608, 0.19772273,\n",
              "       0.07079407])"
            ]
          },
          "metadata": {},
          "execution_count": 33
        }
      ]
    },
    {
      "cell_type": "code",
      "metadata": {
        "colab": {
          "base_uri": "https://localhost:8080/",
          "height": 301
        },
        "id": "M4miettCqN-V",
        "outputId": "c53d848d-3e85-40ec-8756-98412545ad79"
      },
      "source": [
        "plt.title('The importance of feature')\n",
        "plt.barh(['Open','High', 'Low', 'Close', 'Adj Close', 'Volume'], reg.feature_importances_)"
      ],
      "id": "M4miettCqN-V",
      "execution_count": null,
      "outputs": [
        {
          "output_type": "execute_result",
          "data": {
            "text/plain": [
              "<BarContainer object of 6 artists>"
            ]
          },
          "metadata": {},
          "execution_count": 34
        },
        {
          "output_type": "display_data",
          "data": {
            "image/png": "[encoded data removed]",
            "text/plain": [
              "<Figure size 432x288 with 1 Axes>"
            ]
          },
          "metadata": {}
        }
      ]
    },
    {
      "cell_type": "code",
      "metadata": {
        "colab": {
          "base_uri": "https://localhost:8080/"
        },
        "id": "Z436jHFS0UYy",
        "outputId": "759ad5ed-75b1-411d-a64b-42e9e12584f4"
      },
      "source": [
        "reg=RandomForestRegressor(n_estimators=500,random_state=42, max_features=0.3, max_depth=10, min_samples_leaf=3)\n",
        "reg.fit(X_train,y_train)"
      ],
      "id": "Z436jHFS0UYy",
      "execution_count": null,
      "outputs": [
        {
          "output_type": "execute_result",
          "data": {
            "text/plain": [
              "RandomForestRegressor(bootstrap=True, ccp_alpha=0.0, criterion='mse',\n",
              "                      max_depth=10, max_features=0.3, max_leaf_nodes=None,\n",
              "                      max_samples=None, min_impurity_decrease=0.0,\n",
              "                      min_impurity_split=None, min_samples_leaf=3,\n",
              "                      min_samples_split=2, min_weight_fraction_leaf=0.0,\n",
              "                      n_estimators=500, n_jobs=None, oob_score=False,\n",
              "                      random_state=42, verbose=0, warm_start=False)"
            ]
          },
          "metadata": {},
          "execution_count": 35
        }
      ]
    },
    {
      "cell_type": "code",
      "metadata": {
        "id": "t1sSA2HdHhD9"
      },
      "source": [
        "#set up arrays to store n_estimators, training and testing accuracies\n",
        "estimators = np.arange(1, 500)\n",
        "train_R_Squared = np.empty(len(estimators))\n",
        "test_R_Squared = np.empty(len(estimators))\n",
        "\n",
        "for i, n in enumerate(estimators):\n",
        "\n",
        "    #set up randomforest with n_estimators\n",
        "    reg=RandomForestRegressor(n_estimators=n,random_state=42, max_features=0.3, max_depth=10, min_samples_leaf=3)\n",
        "    #fit the model\n",
        "    reg.fit(X_train,y_train)\n",
        "\n",
        "    #computing R squared on the training set\n",
        "    train_R_Squared[i] = reg.score(X_train, y_train)\n",
        "\n",
        "    #computing R squared on the test set\n",
        "    test_R_Squared[i] = reg.score(X_test, y_test)"
      ],
      "id": "t1sSA2HdHhD9",
      "execution_count": null,
      "outputs": []
    },
    {
      "cell_type": "code",
      "metadata": {
        "colab": {
          "base_uri": "https://localhost:8080/"
        },
        "id": "TIsHK20MHxYu",
        "outputId": "fb9312d4-6f59-4b9e-9a22-4c5a2f4efbe2"
      },
      "source": [
        "#Now we are showing the line graph about testing accuracy and training accuracy\n",
        "plt.title('Random Forest varying number of n_estimators')\n",
        "plt.plot(estimators, test_R_Squared, label='R Squared ofTesting')\n",
        "plt.plot(estimators, train_R_Squared, label='R squared of Training')\n",
        "plt.legend()\n",
        "plt.xlabel('Number of estimators')\n",
        "plt.ylabel('R Squared')\n",
        "plt.show()"
      ],
      "id": "TIsHK20MHxYu",
      "execution_count": null,
      "outputs": [
        {
          "output_type": "display_data",
          "data": {
            "image/png": "[encoded data removed]",
            "text/plain": [
              "<Figure size 432x288 with 1 Axes>"
            ]
          },
          "metadata": {}
        }
      ]
    },
    {
      "cell_type": "code",
      "metadata": {
        "colab": {
          "base_uri": "https://localhost:8080/"
        },
        "id": "X-GBjpt9Hwk4",
        "outputId": "1ae6e989-36a8-445d-8111-0c4e6372c9e4"
      },
      "source": [
        "result_test = reg.score(X_test, y_test)\n",
        "result_train = reg.score(X_train, y_train)\n",
        "print('R Squared of testing = ', result_test)\n",
        "print('R squared of training = ', result_train)"
      ],
      "id": "X-GBjpt9Hwk4",
      "execution_count": null,
      "outputs": [
        {
          "output_type": "stream",
          "name": "stdout",
          "text": [
            "R Squared of testing =  0.9274297989482172\n",
            "R squared of training =  0.9651539439641306\n"
          ]
        }
      ]
    },
    {
      "cell_type": "code",
      "metadata": {
        "id": "92kk6uTEINGT"
      },
      "source": [
        "pred = reg.predict(X_test)"
      ],
      "id": "92kk6uTEINGT",
      "execution_count": null,
      "outputs": []
    },
    {
      "cell_type": "code",
      "metadata": {
        "id": "ihmXz12ZIrL1",
        "colab": {
          "base_uri": "https://localhost:8080/"
        },
        "outputId": "5f5fd94e-5b32-45f1-edc2-ce57c8a9ecb4"
      },
      "source": [
        "import sklearn.metrics as metrics\n",
        "print('MAE: {}'.format(metrics.mean_absolute_error(y_test, pred)))\n",
        "print('MSE: {}'.format(metrics.mean_squared_error(y_test, pred)))\n",
        "print('RMSE: {}'.format(np.sqrt(metrics.mean_squared_error(y_test, pred))))"
      ],
      "id": "ihmXz12ZIrL1",
      "execution_count": null,
      "outputs": [
        {
          "output_type": "stream",
          "name": "stdout",
          "text": [
            "MAE: 2922.1468597984685\n",
            "MSE: 23867492.876836196\n",
            "RMSE: 4885.436815356043\n"
          ]
        }
      ]
    },
    {
      "cell_type": "code",
      "metadata": {
        "id": "ovpMhsCXI1Ig"
      },
      "source": [
        "#Calculating mean square error\n",
        "difference_array = np.subtract(y_test, pred)\n",
        "squared_array = np.square(difference_array)\n",
        "MSE = squared_array.mean()"
      ],
      "id": "ovpMhsCXI1Ig",
      "execution_count": null,
      "outputs": []
    },
    {
      "cell_type": "code",
      "metadata": {
        "colab": {
          "base_uri": "https://localhost:8080/"
        },
        "id": "Xot1IBdKI4-H",
        "outputId": "1e258eed-7255-486b-877f-2a09df70498b"
      },
      "source": [
        "print('Mean Square Error: ', MSE)"
      ],
      "id": "Xot1IBdKI4-H",
      "execution_count": null,
      "outputs": [
        {
          "output_type": "stream",
          "name": "stdout",
          "text": [
            "Mean Square Error:  23867492.876836196\n"
          ]
        }
      ]
    },
    {
      "cell_type": "code",
      "metadata": {
        "colab": {
          "base_uri": "https://localhost:8080/"
        },
        "id": "HjYkZdIUI_uN",
        "outputId": "f0e51584-5a38-4482-9de6-d106b7237280"
      },
      "source": [
        "plt.scatter(y_test, pred)\n",
        "sns.regplot(pred,y_test,line_kws={'color':'black','alpha':0.5})\n",
        "plt.ylabel('Predicted')\n",
        "plt.xlabel('Y test')"
      ],
      "id": "HjYkZdIUI_uN",
      "execution_count": null,
      "outputs": [
        {
          "output_type": "stream",
          "name": "stderr",
          "text": [
            "/usr/local/lib/python3.7/dist-packages/seaborn/_decorators.py:43: FutureWarning: Pass the following variables as keyword args: x, y. From version 0.12, the only valid positional argument will be `data`, and passing other arguments without an explicit keyword will result in an error or misinterpretation.\n",
            "  FutureWarning\n"
          ]
        },
        {
          "output_type": "execute_result",
          "data": {
            "text/plain": [
              "Text(0.5, 0, 'Y test')"
            ]
          },
          "metadata": {},
          "execution_count": 43
        },
        {
          "output_type": "display_data",
          "data": {
            "image/png": "[encoded data removed]",
            "text/plain": [
              "<Figure size 432x288 with 1 Axes>"
            ]
          },
          "metadata": {}
        }
      ]
    },
    {
      "cell_type": "markdown",
      "metadata": {
        "id": "kXWLZF4Pl8wN"
      },
      "source": [
        "#KNN"
      ],
      "id": "kXWLZF4Pl8wN"
    },
    {
      "cell_type": "code",
      "metadata": {
        "id": "Tz6Utc97l-nr"
      },
      "source": [
        "from sklearn.neighbors import KNeighborsRegressor\n",
        "from sklearn.model_selection import GridSearchCV"
      ],
      "id": "Tz6Utc97l-nr",
      "execution_count": null,
      "outputs": []
    },
    {
      "cell_type": "code",
      "metadata": {
        "colab": {
          "base_uri": "https://localhost:8080/"
        },
        "id": "CEQLgSVkrPRl",
        "outputId": "7dc9661f-2a6d-4144-8c81-2c24d6b38ba2"
      },
      "source": [
        "knn_params = {\"n_neighbors\" : np.arange(1,11,1)}\n",
        "knn = KNeighborsRegressor()\n",
        "#cv is cross-validation\n",
        "knn_cv_model = GridSearchCV(knn, knn_params, cv = 10)\n",
        "knn_cv_model.fit(X_train, y_train)"
      ],
      "id": "CEQLgSVkrPRl",
      "execution_count": null,
      "outputs": [
        {
          "output_type": "execute_result",
          "data": {
            "text/plain": [
              "GridSearchCV(cv=10, error_score=nan,\n",
              "             estimator=KNeighborsRegressor(algorithm='auto', leaf_size=30,\n",
              "                                           metric='minkowski',\n",
              "                                           metric_params=None, n_jobs=None,\n",
              "                                           n_neighbors=5, p=2,\n",
              "                                           weights='uniform'),\n",
              "             iid='deprecated', n_jobs=None,\n",
              "             param_grid={'n_neighbors': array([ 1,  2,  3,  4,  5,  6,  7,  8,  9, 10])},\n",
              "             pre_dispatch='2*n_jobs', refit=True, return_train_score=False,\n",
              "             scoring=None, verbose=0)"
            ]
          },
          "metadata": {},
          "execution_count": 45
        }
      ]
    },
    {
      "cell_type": "code",
      "metadata": {
        "colab": {
          "base_uri": "https://localhost:8080/"
        },
        "id": "2gTgogRpsE0f",
        "outputId": "ed45963a-4e9f-49b4-ddb6-13538a8f9083"
      },
      "source": [
        "print(\"optimal K = \", knn_cv_model.best_params_[\"n_neighbors\"])"
      ],
      "id": "2gTgogRpsE0f",
      "execution_count": null,
      "outputs": [
        {
          "output_type": "stream",
          "name": "stdout",
          "text": [
            "optimal K =  4\n"
          ]
        }
      ]
    },
    {
      "cell_type": "code",
      "metadata": {
        "id": "kupoVH_bs5g5"
      },
      "source": [
        "knn_model = KNeighborsRegressor(n_neighbors = knn_cv_model.best_params_[\"n_neighbors\"]).fit(X_train, y_train)\n",
        "y_pred = knn_model.predict(X_test)"
      ],
      "id": "kupoVH_bs5g5",
      "execution_count": null,
      "outputs": []
    },
    {
      "cell_type": "code",
      "metadata": {
        "colab": {
          "base_uri": "https://localhost:8080/"
        },
        "id": "HwN0QcVltpmd",
        "outputId": "a046631e-0fea-4d8c-f159-844fabaada0f"
      },
      "source": [
        "print(\"R squared of training: \", knn_model.score(X_train, y_train))\n",
        "print(\"R squared of testing: \", knn_model.score(X_test, y_test))"
      ],
      "id": "HwN0QcVltpmd",
      "execution_count": null,
      "outputs": [
        {
          "output_type": "stream",
          "name": "stdout",
          "text": [
            "R squared of training:  0.9509492765148082\n",
            "R squared of testing:  0.9251904963339839\n"
          ]
        }
      ]
    },
    {
      "cell_type": "code",
      "metadata": {
        "id": "8Tb4zuPoQUJx"
      },
      "source": [
        "#Calculating mean square error\n",
        "difference_array = np.subtract(y_test, pred)\n",
        "squared_array = np.square(difference_array)\n",
        "MSE = squared_array.mean()"
      ],
      "id": "8Tb4zuPoQUJx",
      "execution_count": null,
      "outputs": []
    },
    {
      "cell_type": "code",
      "metadata": {
        "colab": {
          "base_uri": "https://localhost:8080/"
        },
        "id": "spifiQvGQWIA",
        "outputId": "5af255a4-6252-406c-ab91-f729c5ee11a3"
      },
      "source": [
        "print('Mean Square Error: ', MSE)"
      ],
      "id": "spifiQvGQWIA",
      "execution_count": null,
      "outputs": [
        {
          "output_type": "stream",
          "name": "stdout",
          "text": [
            "Mean Square Error:  23867492.876836196\n"
          ]
        }
      ]
    },
    {
      "cell_type": "code",
      "metadata": {
        "colab": {
          "base_uri": "https://localhost:8080/"
        },
        "id": "ohR-5nMCI2F8",
        "outputId": "18397aac-694b-4136-dc03-bf744439ea8b"
      },
      "source": [
        "import sklearn.metrics as metrics\n",
        "print('MAE: {}'.format(metrics.mean_absolute_error(y_test, pred)))\n",
        "print('MSE: {}'.format(metrics.mean_squared_error(y_test, pred)))\n",
        "print('RMSE: {}'.format(np.sqrt(metrics.mean_squared_error(y_test, pred))))"
      ],
      "id": "ohR-5nMCI2F8",
      "execution_count": null,
      "outputs": [
        {
          "output_type": "stream",
          "name": "stdout",
          "text": [
            "MAE: 2922.1468597984685\n",
            "MSE: 23867492.876836196\n",
            "RMSE: 4885.436815356043\n"
          ]
        }
      ]
    },
    {
      "cell_type": "code",
      "metadata": {
        "colab": {
          "base_uri": "https://localhost:8080/"
        },
        "id": "0pL-NYO2RUFs",
        "outputId": "6b6bb316-8ece-4686-c93e-fd771967bde3"
      },
      "source": [
        "plt.scatter(y_test, pred)\n",
        "sns.regplot(pred,y_test,line_kws={'color':'black','alpha':0.5})\n",
        "plt.ylabel('Predicted')\n",
        "plt.xlabel('Y test')"
      ],
      "id": "0pL-NYO2RUFs",
      "execution_count": null,
      "outputs": [
        {
          "output_type": "stream",
          "name": "stderr",
          "text": [
            "/usr/local/lib/python3.7/dist-packages/seaborn/_decorators.py:43: FutureWarning: Pass the following variables as keyword args: x, y. From version 0.12, the only valid positional argument will be `data`, and passing other arguments without an explicit keyword will result in an error or misinterpretation.\n",
            "  FutureWarning\n"
          ]
        },
        {
          "output_type": "execute_result",
          "data": {
            "text/plain": [
              "Text(0.5, 0, 'Y test')"
            ]
          },
          "metadata": {},
          "execution_count": 52
        },
        {
          "output_type": "display_data",
          "data": {
            "image/png": "[encoded data removed]",
            "text/plain": [
              "<Figure size 432x288 with 1 Axes>"
            ]
          },
          "metadata": {}
        }
      ]
    },
    {
      "cell_type": "markdown",
      "metadata": {
        "id": "ta1nZ3LtSIyf"
      },
      "source": [
        "#Neural Networks\n"
      ],
      "id": "ta1nZ3LtSIyf"
    },
    {
      "cell_type": "code",
      "metadata": {
        "id": "NswOygQsSLrF"
      },
      "source": [
        "import xgboost as xgb\n",
        "from sklearn import linear_model\n",
        "from sklearn.neural_network import MLPRegressor\n",
        "from sklearn import ensemble\n",
        "from sklearn.svm import SVR\n",
        "from sklearn.metrics import mean_squared_error"
      ],
      "id": "NswOygQsSLrF",
      "execution_count": null,
      "outputs": []
    },
    {
      "cell_type": "code",
      "metadata": {
        "id": "w3TfTqvcH1Jm"
      },
      "source": [
        "model_NN = MLPRegressor(solver='lbfgs', hidden_layer_sizes=30,\n",
        "                           max_iter=100, random_state=42,\n",
        "                           activation=\"relu\") "
      ],
      "id": "w3TfTqvcH1Jm",
      "execution_count": null,
      "outputs": []
    },
    {
      "cell_type": "code",
      "metadata": {
        "colab": {
          "base_uri": "https://localhost:8080/"
        },
        "id": "hs2s7cYZH8Ug",
        "outputId": "2ffb3b66-56d0-4e16-ba5c-a792829e9360"
      },
      "source": [
        "model_NN.fit(X_train, y_train)"
      ],
      "id": "hs2s7cYZH8Ug",
      "execution_count": null,
      "outputs": [
        {
          "output_type": "stream",
          "name": "stderr",
          "text": [
            "/usr/local/lib/python3.7/dist-packages/sklearn/neural_network/_multilayer_perceptron.py:470: ConvergenceWarning: lbfgs failed to converge (status=1):\n",
            "STOP: TOTAL NO. of ITERATIONS REACHED LIMIT.\n",
            "\n",
            "Increase the number of iterations (max_iter) or scale the data as shown in:\n",
            "    https://scikit-learn.org/stable/modules/preprocessing.html\n",
            "  self.n_iter_ = _check_optimize_result(\"lbfgs\", opt_res, self.max_iter)\n"
          ]
        },
        {
          "output_type": "execute_result",
          "data": {
            "text/plain": [
              "MLPRegressor(activation='relu', alpha=0.0001, batch_size='auto', beta_1=0.9,\n",
              "             beta_2=0.999, early_stopping=False, epsilon=1e-08,\n",
              "             hidden_layer_sizes=30, learning_rate='constant',\n",
              "             learning_rate_init=0.001, max_fun=15000, max_iter=100,\n",
              "             momentum=0.9, n_iter_no_change=10, nesterovs_momentum=True,\n",
              "             power_t=0.5, random_state=42, shuffle=True, solver='lbfgs',\n",
              "             tol=0.0001, validation_fraction=0.1, verbose=False,\n",
              "             warm_start=False)"
            ]
          },
          "metadata": {},
          "execution_count": 55
        }
      ]
    },
    {
      "cell_type": "code",
      "metadata": {
        "id": "sakAFb_2IAxx"
      },
      "source": [
        "y_pred = model_NN.predict(X_test)"
      ],
      "id": "sakAFb_2IAxx",
      "execution_count": null,
      "outputs": []
    },
    {
      "cell_type": "code",
      "metadata": {
        "colab": {
          "base_uri": "https://localhost:8080/"
        },
        "id": "nJrUGkOXIHbx",
        "outputId": "4573bf53-7db8-43f0-f5dd-df14bc01c5e7"
      },
      "source": [
        "print('R squared of training: ',model_NN.score(X_train, y_train))"
      ],
      "id": "nJrUGkOXIHbx",
      "execution_count": null,
      "outputs": [
        {
          "output_type": "stream",
          "name": "stdout",
          "text": [
            "R squared of training:  0.9277841381293087\n"
          ]
        }
      ]
    },
    {
      "cell_type": "code",
      "metadata": {
        "colab": {
          "base_uri": "https://localhost:8080/"
        },
        "id": "kVNUge4zIM6G",
        "outputId": "84628b69-50d1-4013-ce6f-47653c7b99de"
      },
      "source": [
        "print('R squared of testing: ',model_NN.score(X_test, y_test))"
      ],
      "id": "kVNUge4zIM6G",
      "execution_count": null,
      "outputs": [
        {
          "output_type": "stream",
          "name": "stdout",
          "text": [
            "R squared of testing:  0.9200583681231145\n"
          ]
        }
      ]
    },
    {
      "cell_type": "code",
      "metadata": {
        "id": "_hKIJppZITRM"
      },
      "source": [
        "#Calculating mean square error\n",
        "difference_array = np.subtract(y_test, pred)\n",
        "squared_array = np.square(difference_array)\n",
        "MSE = squared_array.mean()"
      ],
      "id": "_hKIJppZITRM",
      "execution_count": null,
      "outputs": []
    },
    {
      "cell_type": "code",
      "metadata": {
        "colab": {
          "base_uri": "https://localhost:8080/"
        },
        "id": "eIG_Ce0FIiGd",
        "outputId": "29094a52-3c0c-4644-e598-3be12a598112"
      },
      "source": [
        "print('Mean Square Error: ', MSE)"
      ],
      "id": "eIG_Ce0FIiGd",
      "execution_count": null,
      "outputs": [
        {
          "output_type": "stream",
          "name": "stdout",
          "text": [
            "Mean Square Error:  23867492.876836196\n"
          ]
        }
      ]
    },
    {
      "cell_type": "code",
      "metadata": {
        "colab": {
          "base_uri": "https://localhost:8080/"
        },
        "id": "sHzwZQHLI6th",
        "outputId": "e421d7dc-dda0-4dda-f746-c16bd7b16b7b"
      },
      "source": [
        "import sklearn.metrics as metrics\n",
        "print('MAE: {}'.format(metrics.mean_absolute_error(y_test, pred)))\n",
        "print('MSE: {}'.format(metrics.mean_squared_error(y_test, pred)))\n",
        "print('RMSE: {}'.format(np.sqrt(metrics.mean_squared_error(y_test, pred))))"
      ],
      "id": "sHzwZQHLI6th",
      "execution_count": null,
      "outputs": [
        {
          "output_type": "stream",
          "name": "stdout",
          "text": [
            "MAE: 2922.1468597984685\n",
            "MSE: 23867492.876836196\n",
            "RMSE: 4885.436815356043\n"
          ]
        }
      ]
    },
    {
      "cell_type": "code",
      "metadata": {
        "colab": {
          "base_uri": "https://localhost:8080/"
        },
        "id": "OrHx0L3ZIqcS",
        "outputId": "7076b3e0-579a-48a7-f4a5-8c1645280a1a"
      },
      "source": [
        "plt.scatter(y_test, pred)\n",
        "sns.regplot(pred,y_test,line_kws={'color':'black','alpha':0.5})\n",
        "plt.ylabel('Predicted')\n",
        "plt.xlabel('Y test')"
      ],
      "id": "OrHx0L3ZIqcS",
      "execution_count": null,
      "outputs": [
        {
          "output_type": "stream",
          "name": "stderr",
          "text": [
            "/usr/local/lib/python3.7/dist-packages/seaborn/_decorators.py:43: FutureWarning: Pass the following variables as keyword args: x, y. From version 0.12, the only valid positional argument will be `data`, and passing other arguments without an explicit keyword will result in an error or misinterpretation.\n",
            "  FutureWarning\n"
          ]
        },
        {
          "output_type": "execute_result",
          "data": {
            "text/plain": [
              "Text(0.5, 0, 'Y test')"
            ]
          },
          "metadata": {},
          "execution_count": 62
        },
        {
          "output_type": "display_data",
          "data": {
            "image/png": "[encoded data removed]",
            "text/plain": [
              "<Figure size 432x288 with 1 Axes>"
            ]
          },
          "metadata": {}
        }
      ]
    },
    {
      "cell_type": "code",
      "metadata": {
        "id": "baoVZfobgoXK"
      },
      "source": [
        "#saving model\n",
        "#import pickle\n",
        "\n",
        "#pkl_Filename = \"BTC_Prediction_Model.pkl\"\n",
        "#with open(pkl_Filename, 'wb') as file:\n",
        "#  pickle.dump(reg, file)"
      ],
      "id": "baoVZfobgoXK",
      "execution_count": null,
      "outputs": []
    },
    {
      "cell_type": "markdown",
      "metadata": {
        "id": "_CUZmFWzfV0B"
      },
      "source": [
        "# Deployment\n",
        "URLS\n",
        "\n",
        "*   Dallas: https://us-south.ml.cloud.ibm.com\n",
        "*   London - https://eu-gb.ml.cloud.ibm.com\n",
        "*   Frankfurt - https://eu-de.ml.cloud.ibm.com\n",
        "*   Tokyo - https://jp-tok.ml.cloud.ibm.com"
      ],
      "id": "_CUZmFWzfV0B"
    },
    {
      "cell_type": "code",
      "metadata": {
        "id": "T2smdxkSSsdJ"
      },
      "source": [
        "!pip install ibm_watson_machine_learning"
      ],
      "id": "T2smdxkSSsdJ",
      "execution_count": null,
      "outputs": []
    },
    {
      "cell_type": "code",
      "metadata": {
        "id": "rHVkzUA4SvUc"
      },
      "source": [
        "from ibm_watson_machine_learning import APIClient"
      ],
      "id": "rHVkzUA4SvUc",
      "execution_count": null,
      "outputs": []
    },
    {
      "cell_type": "code",
      "metadata": {
        "id": "NMZ6k6uASxJp"
      },
      "source": [
        "wml_credentials = {\n",
        "    \"apikey\":\"3yJs0dfq8sweZcE9-HD02-U0BUXdFerPqonhRXH6Q-1H\",\n",
        "    \"url\":\"https://us-south.ml.cloud.ibm.com\",\n",
        "    #user name(option)\n",
        "    #password(option)\n",
        "    \"version\": \"2.0\"\n",
        "}\n",
        "wml_client = APIClient(wml_credentials)"
      ],
      "id": "NMZ6k6uASxJp",
      "execution_count": null,
      "outputs": []
    },
    {
      "cell_type": "code",
      "metadata": {
        "id": "Rk7ljmTuSz5V"
      },
      "source": [
        "wml_client.spaces.list()"
      ],
      "id": "Rk7ljmTuSz5V",
      "execution_count": null,
      "outputs": []
    },
    {
      "cell_type": "code",
      "metadata": {
        "id": "10o72jBPS1si"
      },
      "source": [
        "def guid_from_space_name(wml_client, space_name):\n",
        "    space = wml_client.spaces.get_details()\n",
        "    #print(space)\n",
        "    return(next(item for item in space['resources'] if item['entity']['name'] == space_name)['metadata']['id'])"
      ],
      "id": "10o72jBPS1si",
      "execution_count": null,
      "outputs": []
    },
    {
      "cell_type": "code",
      "metadata": {
        "id": "97zzeNQkS3sX"
      },
      "source": [
        "space_uid = guid_from_space_name(wml_client, 'models')"
      ],
      "id": "97zzeNQkS3sX",
      "execution_count": null,
      "outputs": []
    },
    {
      "cell_type": "code",
      "metadata": {
        "id": "gbu1iuFzS5UD"
      },
      "source": [
        "print(\"Space UID = \",space_uid)"
      ],
      "id": "gbu1iuFzS5UD",
      "execution_count": null,
      "outputs": []
    },
    {
      "cell_type": "code",
      "metadata": {
        "id": "llhrqPqkS66Z"
      },
      "source": [
        "wml_client.set.default_space(space_uid)"
      ],
      "id": "llhrqPqkS66Z",
      "execution_count": null,
      "outputs": []
    },
    {
      "cell_type": "code",
      "metadata": {
        "id": "S_6Pgr9DS80x"
      },
      "source": [
        "wml_client.software_specifications.list()"
      ],
      "id": "S_6Pgr9DS80x",
      "execution_count": null,
      "outputs": []
    },
    {
      "cell_type": "code",
      "metadata": {
        "id": "VV46SFaLTBUx"
      },
      "source": [
        "software_spec_uid = wml_client.software_specifications.get_uid_by_name(\"default_py3.7_opence\")\n",
        "software_spec_uid"
      ],
      "id": "VV46SFaLTBUx",
      "execution_count": null,
      "outputs": []
    },
    {
      "cell_type": "code",
      "metadata": {
        "id": "mVlzWU6kTDSY"
      },
      "source": [
        "model_details = wml_client.repository.store_model(model=reg, meta_props={\n",
        "    wml_client.repository.ModelMetaNames.NAME:\"RD_modeling\",\n",
        "    wml_client.repository.ModelMetaNames.TYPE:\"scikit-learn_0.23\",\n",
        "    wml_client.repository.ModelMetaNames.SOFTWARE_SPEC_UID:software_spec_uid})\n",
        "\n",
        "model_id = wml_client.repository.get_model_uid(model_details)"
      ],
      "id": "mVlzWU6kTDSY",
      "execution_count": null,
      "outputs": []
    },
    {
      "cell_type": "code",
      "metadata": {
        "id": "2xR5VM7TTFD2"
      },
      "source": [
        "model_id"
      ],
      "id": "2xR5VM7TTFD2",
      "execution_count": null,
      "outputs": []
    }
  ]
}